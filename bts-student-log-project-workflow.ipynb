{
 "cells": [
  {
   "cell_type": "code",
   "execution_count": 1,
   "id": "b29c3090",
   "metadata": {},
   "outputs": [],
   "source": [
    "# from __future__ import division\n",
    "import itertools\n",
    "import warnings\n",
    "warnings.filterwarnings(\"ignore\")\n",
    "import matplotlib.pyplot as plt\n",
    "import matplotlib.dates as mdates\n",
    "import numpy as np\n",
    "import pandas as pd\n",
    "import math\n",
    "from sklearn import metrics\n",
    "from random import randint\n",
    "from matplotlib import style\n",
    "import seaborn as sns\n",
    "from mpl_toolkits.mplot3d import Axes3D\n",
    "\n",
    "from sklearn.cluster import DBSCAN\n",
    "from sklearn.preprocessing import MinMaxScaler"
   ]
  },
  {
   "cell_type": "code",
   "execution_count": 4,
   "id": "afcdcae4",
   "metadata": {},
   "outputs": [],
   "source": [
    "# Read the csv file\n",
    "userlog = pd.read_csv('user_logs.csv')\n",
    "# Set datetime object as the index\n",
    "userlog = userlog.set_index(userlog.datetime)\n",
    "# Drop the original datetime column\n",
    "userlog.drop(columns='datetime',inplace=True)"
   ]
  },
  {
   "cell_type": "code",
   "execution_count": 21,
   "id": "848eeda1",
   "metadata": {},
   "outputs": [],
   "source": [
    "# Set 'datetime' as a datetime index.\n",
    "userlog.index = pd.to_datetime(userlog.index)"
   ]
  },
  {
   "cell_type": "code",
   "execution_count": 22,
   "id": "556bda27",
   "metadata": {},
   "outputs": [
    {
     "data": {
      "text/plain": [
       "DatetimeIndex(['2018-01-26 09:55:03', '2018-01-26 09:56:02',\n",
       "               '2018-01-26 09:56:05', '2018-01-26 09:56:06',\n",
       "               '2018-01-26 09:56:24', '2018-01-26 09:56:41',\n",
       "               '2018-01-26 09:56:46', '2018-01-26 09:56:48',\n",
       "               '2018-01-26 09:56:59', '2018-01-26 09:58:26',\n",
       "               ...\n",
       "               '2021-04-21 16:38:14', '2021-04-21 16:41:29',\n",
       "               '2021-04-21 16:41:31', '2021-04-21 16:41:49',\n",
       "               '2021-04-21 16:41:51', '2021-04-21 16:41:51',\n",
       "               '2021-04-21 16:42:02', '2021-04-21 16:42:09',\n",
       "               '2021-04-21 16:44:37', '2021-04-21 16:44:39'],\n",
       "              dtype='datetime64[ns]', name='datetime', length=847330, freq=None)"
      ]
     },
     "execution_count": 22,
     "metadata": {},
     "output_type": "execute_result"
    }
   ],
   "source": [
    "userlog.index"
   ]
  },
  {
   "cell_type": "code",
   "execution_count": 11,
   "id": "62fe8645",
   "metadata": {},
   "outputs": [
    {
     "data": {
      "text/plain": [
       "47"
      ]
     },
     "execution_count": 11,
     "metadata": {},
     "output_type": "execute_result"
    }
   ],
   "source": [
    "len(userlog.cohort_name.value_counts())"
   ]
  },
  {
   "cell_type": "code",
   "execution_count": 12,
   "id": "3d40fa25",
   "metadata": {},
   "outputs": [
    {
     "data": {
      "text/plain": [
       "46"
      ]
     },
     "execution_count": 12,
     "metadata": {},
     "output_type": "execute_result"
    }
   ],
   "source": [
    "len(userlog.slack.value_counts())"
   ]
  },
  {
   "cell_type": "code",
   "execution_count": 13,
   "id": "dc4978e4",
   "metadata": {},
   "outputs": [
    {
     "data": {
      "text/plain": [
       "Staff         84031\n",
       "Ceres         40730\n",
       "Zion          38096\n",
       "Jupiter       37109\n",
       "Fortuna       36902\n",
       "Voyageurs     35636\n",
       "Ganymede      33844\n",
       "Apex          33568\n",
       "Deimos        32888\n",
       "Darden        32015\n",
       "Teddy         30926\n",
       "Hyperion      29855\n",
       "Betelgeuse    29356\n",
       "Ulysses       28534\n",
       "Europa        28033\n",
       "Xanadu        27749\n",
       "Bayes         26538\n",
       "Wrangell      25586\n",
       "Andromeda     25359\n",
       "Kalypso       23691\n",
       "Curie         21582\n",
       "Yosemite      20743\n",
       "Bash          17713\n",
       "Luna          16623\n",
       "Marco         16397\n",
       "Easley        14715\n",
       "Lassen         9587\n",
       "Arches         8890\n",
       "Florence       8562\n",
       "Sequoia        7444\n",
       "Neptune        7276\n",
       "Olympic        4954\n",
       "Kings          2845\n",
       "Pinnacles      2158\n",
       "Hampton        1712\n",
       "Oberon         1672\n",
       "Quincy         1237\n",
       "Niagara         755\n",
       "Mammoth         691\n",
       "Glacier         598\n",
       "Joshua          302\n",
       "Ike             253\n",
       "Badlands         93\n",
       "Franklin         72\n",
       "Apollo            5\n",
       "Denali            4\n",
       "Everglades        1\n",
       "Name: cohort_name, dtype: int64"
      ]
     },
     "execution_count": 13,
     "metadata": {},
     "output_type": "execute_result"
    }
   ],
   "source": [
    "userlog.cohort_name.value_counts()"
   ]
  },
  {
   "cell_type": "code",
   "execution_count": 14,
   "id": "894620ea",
   "metadata": {},
   "outputs": [
    {
     "data": {
      "text/plain": [
       "#              110569\n",
       "#ceres          40730\n",
       "#zion           38096\n",
       "#jupiter        37109\n",
       "#fortuna        36902\n",
       "#voyageurs      35636\n",
       "#ganymede       33844\n",
       "#apex           33568\n",
       "#deimos         32888\n",
       "#darden         32015\n",
       "#teddy          30926\n",
       "#hyperion       29855\n",
       "#betelgeuse     29356\n",
       "#ulysses        28534\n",
       "#europa         28033\n",
       "#xanadu         27749\n",
       "#wrangell       25586\n",
       "#andromeda      25359\n",
       "#kalypso        23691\n",
       "#curie          21582\n",
       "#yosemite       20743\n",
       "#bash           17713\n",
       "#luna           16623\n",
       "#marco          16397\n",
       "#easley         14715\n",
       "#lassen          9587\n",
       "#arches          8890\n",
       "#florence        8562\n",
       "#sequoia         7444\n",
       "#neptune         7276\n",
       "#olympic         4954\n",
       "#kings           2845\n",
       "#pinnacles       2158\n",
       "#hampton         1712\n",
       "#oberon          1672\n",
       "#quincy          1237\n",
       "#niagara          755\n",
       "#mammoth          691\n",
       "#glacier          598\n",
       "#joshua           302\n",
       "#ike              253\n",
       "#badlands          93\n",
       "#franklin          72\n",
       "#apollo             5\n",
       "#denali             4\n",
       "#everglades         1\n",
       "Name: slack, dtype: int64"
      ]
     },
     "execution_count": 14,
     "metadata": {},
     "output_type": "execute_result"
    }
   ],
   "source": [
    "userlog.slack.value_counts()"
   ]
  },
  {
   "cell_type": "markdown",
   "id": "85d62964",
   "metadata": {},
   "source": [
    "# Takeaways\n",
    "* Bayes is missing a slack channel\n",
    "* They may have been put in the '#' slack channel."
   ]
  },
  {
   "cell_type": "markdown",
   "id": "bf33eb88",
   "metadata": {},
   "source": [
    "### At some point in 2019, the ability for students and alumni to access both curriculums (web dev to ds, ds to web dev) should have been shut off. Do you see any evidence of that happening? Did it happen before?"
   ]
  },
  {
   "cell_type": "code",
   "execution_count": 24,
   "id": "ab1af21f",
   "metadata": {},
   "outputs": [
    {
     "name": "stdout",
     "output_type": "stream",
     "text": [
      "<class 'pandas.core.frame.DataFrame'>\n",
      "DatetimeIndex: 847330 entries, 2018-01-26 09:55:03 to 2021-04-21 16:44:39\n",
      "Data columns (total 12 columns):\n",
      " #   Column       Non-Null Count   Dtype  \n",
      "---  ------       --------------   -----  \n",
      " 0   cohort_id    847330 non-null  int64  \n",
      " 1   cohort_name  847330 non-null  object \n",
      " 2   slack        847330 non-null  object \n",
      " 3   start_date   847330 non-null  object \n",
      " 4   end_date     847330 non-null  object \n",
      " 5   created_at   847330 non-null  object \n",
      " 6   updated_at   847330 non-null  object \n",
      " 7   deleted_at   0 non-null       float64\n",
      " 8   program_id   847330 non-null  int64  \n",
      " 9   path         847329 non-null  object \n",
      " 10  user_id      847330 non-null  int64  \n",
      " 11  ip           847330 non-null  object \n",
      "dtypes: float64(1), int64(3), object(8)\n",
      "memory usage: 84.0+ MB\n"
     ]
    }
   ],
   "source": [
    "userlog.info()"
   ]
  },
  {
   "cell_type": "code",
   "execution_count": 31,
   "id": "9a07a8a8",
   "metadata": {},
   "outputs": [],
   "source": [
    "userlog.end_date = pd.to_datetime(userlog.end_date)\n",
    "userlog.start_date = pd.to_datetime(userlog.start_date)\n",
    "userlog.created_at = pd.to_datetime(userlog.created_at)\n",
    "userlog.updated_at = pd.to_datetime(userlog.updated_at)"
   ]
  },
  {
   "cell_type": "code",
   "execution_count": 33,
   "id": "a776c0dd",
   "metadata": {},
   "outputs": [],
   "source": [
    "userlog.drop(columns='deleted_at', inplace=True)"
   ]
  },
  {
   "cell_type": "code",
   "execution_count": 34,
   "id": "35047232",
   "metadata": {},
   "outputs": [
    {
     "name": "stdout",
     "output_type": "stream",
     "text": [
      "<class 'pandas.core.frame.DataFrame'>\n",
      "DatetimeIndex: 847330 entries, 2018-01-26 09:55:03 to 2021-04-21 16:44:39\n",
      "Data columns (total 11 columns):\n",
      " #   Column       Non-Null Count   Dtype         \n",
      "---  ------       --------------   -----         \n",
      " 0   cohort_id    847330 non-null  int64         \n",
      " 1   cohort_name  847330 non-null  object        \n",
      " 2   slack        847330 non-null  object        \n",
      " 3   start_date   847330 non-null  datetime64[ns]\n",
      " 4   end_date     847330 non-null  datetime64[ns]\n",
      " 5   created_at   847330 non-null  datetime64[ns]\n",
      " 6   updated_at   847330 non-null  datetime64[ns]\n",
      " 7   program_id   847330 non-null  int64         \n",
      " 8   path         847329 non-null  object        \n",
      " 9   user_id      847330 non-null  int64         \n",
      " 10  ip           847330 non-null  object        \n",
      "dtypes: datetime64[ns](4), int64(3), object(4)\n",
      "memory usage: 77.6+ MB\n"
     ]
    }
   ],
   "source": [
    "userlog.info()"
   ]
  },
  {
   "cell_type": "code",
   "execution_count": 23,
   "id": "33193a22",
   "metadata": {},
   "outputs": [
    {
     "data": {
      "text/plain": [
       "<pandas.core.resample.DatetimeIndexResampler object at 0x7fae0fd37550>"
      ]
     },
     "execution_count": 23,
     "metadata": {},
     "output_type": "execute_result"
    }
   ],
   "source": [
    "userlog.resample('d')"
   ]
  },
  {
   "cell_type": "code",
   "execution_count": null,
   "id": "96c9dfdb",
   "metadata": {},
   "outputs": [],
   "source": []
  }
 ],
 "metadata": {
  "kernelspec": {
   "display_name": "Python 3 (ipykernel)",
   "language": "python",
   "name": "python3"
  },
  "language_info": {
   "codemirror_mode": {
    "name": "ipython",
    "version": 3
   },
   "file_extension": ".py",
   "mimetype": "text/x-python",
   "name": "python",
   "nbconvert_exporter": "python",
   "pygments_lexer": "ipython3",
   "version": "3.8.8"
  }
 },
 "nbformat": 4,
 "nbformat_minor": 5
}
