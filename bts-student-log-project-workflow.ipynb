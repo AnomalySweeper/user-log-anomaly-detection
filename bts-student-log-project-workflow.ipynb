{
 "cells": [
  {
   "cell_type": "code",
   "execution_count": 1,
   "id": "b29c3090",
   "metadata": {},
   "outputs": [],
   "source": [
    "# from __future__ import division\n",
    "import itertools\n",
    "import warnings\n",
    "warnings.filterwarnings(\"ignore\")\n",
    "import matplotlib.pyplot as plt\n",
    "import matplotlib.dates as mdates\n",
    "import numpy as np\n",
    "import pandas as pd\n",
    "import math\n",
    "from sklearn import metrics\n",
    "from random import randint\n",
    "from matplotlib import style\n",
    "import seaborn as sns\n",
    "from mpl_toolkits.mplot3d import Axes3D\n",
    "\n",
    "from sklearn.cluster import DBSCAN\n",
    "from sklearn.preprocessing import MinMaxScaler"
   ]
  },
  {
   "cell_type": "code",
   "execution_count": 2,
   "id": "afcdcae4",
   "metadata": {},
   "outputs": [],
   "source": [
    "# Read the csv file\n",
    "userlog = pd.read_csv('user_logs.csv')\n",
    "# Set datetime object as the index\n",
    "userlog = userlog.set_index(userlog.datetime)\n",
    "# Drop the original datetime column\n",
    "userlog.drop(columns='datetime',inplace=True)"
   ]
  },
  {
   "cell_type": "code",
   "execution_count": 3,
   "id": "848eeda1",
   "metadata": {},
   "outputs": [],
   "source": [
    "# Set 'datetime' as a datetime index.\n",
    "userlog.index = pd.to_datetime(userlog.index)"
   ]
  },
  {
   "cell_type": "code",
   "execution_count": 4,
   "id": "8484b080",
   "metadata": {},
   "outputs": [
    {
     "data": {
      "text/plain": [
       "DatetimeIndex(['2018-01-26 09:55:03', '2018-01-26 09:56:02',\n",
       "               '2018-01-26 09:56:05', '2018-01-26 09:56:06',\n",
       "               '2018-01-26 09:56:24', '2018-01-26 09:56:41',\n",
       "               '2018-01-26 09:56:46', '2018-01-26 09:56:48',\n",
       "               '2018-01-26 09:56:59', '2018-01-26 09:58:26',\n",
       "               ...\n",
       "               '2021-04-21 16:38:14', '2021-04-21 16:41:29',\n",
       "               '2021-04-21 16:41:31', '2021-04-21 16:41:49',\n",
       "               '2021-04-21 16:41:51', '2021-04-21 16:41:51',\n",
       "               '2021-04-21 16:42:02', '2021-04-21 16:42:09',\n",
       "               '2021-04-21 16:44:37', '2021-04-21 16:44:39'],\n",
       "              dtype='datetime64[ns]', name='datetime', length=847330, freq=None)"
      ]
     },
     "execution_count": 4,
     "metadata": {},
     "output_type": "execute_result"
    }
   ],
   "source": [
    "# Verify index was set.\n",
    "userlog.index"
   ]
  },
  {
   "cell_type": "code",
   "execution_count": 5,
   "id": "94498ca2",
   "metadata": {},
   "outputs": [
    {
     "data": {
      "text/plain": [
       "47"
      ]
     },
     "execution_count": 5,
     "metadata": {},
     "output_type": "execute_result"
    }
   ],
   "source": [
    "len(userlog.cohort_name.value_counts())"
   ]
  },
  {
   "cell_type": "code",
   "execution_count": 6,
   "id": "3d40fa25",
   "metadata": {},
   "outputs": [
    {
     "data": {
      "text/plain": [
       "46"
      ]
     },
     "execution_count": 6,
     "metadata": {},
     "output_type": "execute_result"
    }
   ],
   "source": [
    "len(userlog.slack.value_counts())"
   ]
  },
  {
   "cell_type": "code",
   "execution_count": 7,
   "id": "dc4978e4",
   "metadata": {},
   "outputs": [
    {
     "data": {
      "text/plain": [
       "Staff         84031\n",
       "Ceres         40730\n",
       "Zion          38096\n",
       "Jupiter       37109\n",
       "Fortuna       36902\n",
       "Voyageurs     35636\n",
       "Ganymede      33844\n",
       "Apex          33568\n",
       "Deimos        32888\n",
       "Darden        32015\n",
       "Teddy         30926\n",
       "Hyperion      29855\n",
       "Betelgeuse    29356\n",
       "Ulysses       28534\n",
       "Europa        28033\n",
       "Xanadu        27749\n",
       "Bayes         26538\n",
       "Wrangell      25586\n",
       "Andromeda     25359\n",
       "Kalypso       23691\n",
       "Curie         21582\n",
       "Yosemite      20743\n",
       "Bash          17713\n",
       "Luna          16623\n",
       "Marco         16397\n",
       "Easley        14715\n",
       "Lassen         9587\n",
       "Arches         8890\n",
       "Florence       8562\n",
       "Sequoia        7444\n",
       "Neptune        7276\n",
       "Olympic        4954\n",
       "Kings          2845\n",
       "Pinnacles      2158\n",
       "Hampton        1712\n",
       "Oberon         1672\n",
       "Quincy         1237\n",
       "Niagara         755\n",
       "Mammoth         691\n",
       "Glacier         598\n",
       "Joshua          302\n",
       "Ike             253\n",
       "Badlands         93\n",
       "Franklin         72\n",
       "Apollo            5\n",
       "Denali            4\n",
       "Everglades        1\n",
       "Name: cohort_name, dtype: int64"
      ]
     },
     "execution_count": 7,
     "metadata": {},
     "output_type": "execute_result"
    }
   ],
   "source": [
    "userlog.cohort_name.value_counts()"
   ]
  },
  {
   "cell_type": "code",
   "execution_count": 8,
   "id": "894620ea",
   "metadata": {},
   "outputs": [
    {
     "data": {
      "text/plain": [
       "#              110569\n",
       "#ceres          40730\n",
       "#zion           38096\n",
       "#jupiter        37109\n",
       "#fortuna        36902\n",
       "#voyageurs      35636\n",
       "#ganymede       33844\n",
       "#apex           33568\n",
       "#deimos         32888\n",
       "#darden         32015\n",
       "#teddy          30926\n",
       "#hyperion       29855\n",
       "#betelgeuse     29356\n",
       "#ulysses        28534\n",
       "#europa         28033\n",
       "#xanadu         27749\n",
       "#wrangell       25586\n",
       "#andromeda      25359\n",
       "#kalypso        23691\n",
       "#curie          21582\n",
       "#yosemite       20743\n",
       "#bash           17713\n",
       "#luna           16623\n",
       "#marco          16397\n",
       "#easley         14715\n",
       "#lassen          9587\n",
       "#arches          8890\n",
       "#florence        8562\n",
       "#sequoia         7444\n",
       "#neptune         7276\n",
       "#olympic         4954\n",
       "#kings           2845\n",
       "#pinnacles       2158\n",
       "#hampton         1712\n",
       "#oberon          1672\n",
       "#quincy          1237\n",
       "#niagara          755\n",
       "#mammoth          691\n",
       "#glacier          598\n",
       "#joshua           302\n",
       "#ike              253\n",
       "#badlands          93\n",
       "#franklin          72\n",
       "#apollo             5\n",
       "#denali             4\n",
       "#everglades         1\n",
       "Name: slack, dtype: int64"
      ]
     },
     "execution_count": 8,
     "metadata": {},
     "output_type": "execute_result"
    }
   ],
   "source": [
    "userlog.slack.value_counts()"
   ]
  },
  {
   "cell_type": "markdown",
   "id": "f0bd2f09",
   "metadata": {},
   "source": [
    "# Takeaways\n",
    "* Bayes is missing a slack channel\n",
    "* They may have been put in the '#' slack channel."
   ]
  },
  {
   "cell_type": "code",
   "execution_count": 10,
   "id": "9be03a72",
   "metadata": {},
   "outputs": [],
   "source": [
    "# Convert all datetime values into datetime datatype\n",
    "userlog.end_date = pd.to_datetime(userlog.end_date)\n",
    "userlog.start_date = pd.to_datetime(userlog.start_date)\n",
    "userlog.created_at = pd.to_datetime(userlog.created_at)\n",
    "userlog.updated_at = pd.to_datetime(userlog.updated_at)"
   ]
  },
  {
   "cell_type": "code",
   "execution_count": 11,
   "id": "b01ca38c",
   "metadata": {},
   "outputs": [],
   "source": [
    "# Drop 'deleted_at' column\n",
    "userlog.drop(columns='deleted_at', inplace=True)"
   ]
  },
  {
   "cell_type": "code",
   "execution_count": 13,
   "id": "0f2e6bfd",
   "metadata": {},
   "outputs": [
    {
     "data": {
      "text/plain": [
       "/                                            45854\n",
       "javascript-i                                 18203\n",
       "toc                                          17591\n",
       "search/search_index.json                     17534\n",
       "java-iii                                     13166\n",
       "                                             ...  \n",
       "ada-capsontes.html                               1\n",
       "appendix/cli/moving-files                        1\n",
       "java-i/control-stateedabitments-and-loops        1\n",
       "javascript/apendix                               1\n",
       "jacascript-i/introdection                        1\n",
       "Name: path, Length: 2224, dtype: int64"
      ]
     },
     "execution_count": 13,
     "metadata": {},
     "output_type": "execute_result"
    }
   ],
   "source": [
    "userlog.path.value_counts()"
   ]
  },
  {
   "cell_type": "markdown",
   "id": "e304de44",
   "metadata": {},
   "source": [
    "# Takeaways\n",
    "* 2224 different paths were accessed."
   ]
  },
  {
   "cell_type": "code",
   "execution_count": 14,
   "id": "cdfa4fca",
   "metadata": {},
   "outputs": [
    {
     "data": {
      "text/plain": [
       "<class 'str'>      847329\n",
       "<class 'float'>         1\n",
       "Name: path, dtype: int64"
      ]
     },
     "execution_count": 14,
     "metadata": {},
     "output_type": "execute_result"
    }
   ],
   "source": [
    "userlog.path.apply(type).value_counts()"
   ]
  },
  {
   "cell_type": "markdown",
   "id": "c0cbb79c",
   "metadata": {},
   "source": [
    "# Takeaways\n",
    "* There is one observtion that is a float datatype that is screwing everything up."
   ]
  },
  {
   "cell_type": "code",
   "execution_count": 15,
   "id": "3189a704",
   "metadata": {},
   "outputs": [],
   "source": [
    "# Drop nan values(there is only one)\n",
    "userlog.dropna(inplace=True)"
   ]
  },
  {
   "cell_type": "code",
   "execution_count": 16,
   "id": "ba8c45c1",
   "metadata": {},
   "outputs": [],
   "source": [
    "# Split the 'path' column at the backslash\n",
    "userlog['path_split'] = userlog.path.str.split('/')"
   ]
  },
  {
   "cell_type": "code",
   "execution_count": 20,
   "id": "b8cae0cf",
   "metadata": {},
   "outputs": [],
   "source": [
    "# Create a new column for module name and lesson\n",
    "userlog['module'] = [mod[0] for mod in userlog.path_split]\n",
    "# Create a second item for the lists that only have one time\n",
    "for mod in userlog.path_split:    \n",
    "    if len(mod) == 1:\n",
    "        mod = mod.append('')\n",
    "\n",
    "userlog['lesson'] = [mod[1] for mod in userlog.path_split]"
   ]
  },
  {
   "cell_type": "markdown",
   "id": "507d4225",
   "metadata": {},
   "source": [
    "# Takeaways\n",
    "* The dataframe is wrangled and now ready for exploration."
   ]
  },
  {
   "cell_type": "code",
   "execution_count": 40,
   "id": "91426b90",
   "metadata": {},
   "outputs": [
    {
     "data": {
      "text/plain": [
       "(Timestamp('2018-01-26 09:55:03'), Timestamp('2021-04-21 16:44:39'))"
      ]
     },
     "execution_count": 40,
     "metadata": {},
     "output_type": "execute_result"
    }
   ],
   "source": [
    "userlog.index.min(), userlog.index.max()"
   ]
  },
  {
   "cell_type": "code",
   "execution_count": 26,
   "id": "bcba340e",
   "metadata": {},
   "outputs": [
    {
     "data": {
      "text/plain": [
       "2    713365\n",
       "3    103411\n",
       "1     30548\n",
       "4         5\n",
       "Name: program_id, dtype: int64"
      ]
     },
     "execution_count": 26,
     "metadata": {},
     "output_type": "execute_result"
    }
   ],
   "source": [
    "userlog.program_id.value_counts()"
   ]
  },
  {
   "cell_type": "code",
   "execution_count": 38,
   "id": "c6860a16",
   "metadata": {},
   "outputs": [
    {
     "data": {
      "text/plain": [
       "html-css    4\n",
       "            1\n",
       "Name: lesson, dtype: int64"
      ]
     },
     "execution_count": 38,
     "metadata": {},
     "output_type": "execute_result"
    }
   ],
   "source": [
    "userlog[userlog.program_id == 4].lesson.value_counts().head(50)"
   ]
  },
  {
   "cell_type": "code",
   "execution_count": 41,
   "id": "4f04dbb2",
   "metadata": {},
   "outputs": [],
   "source": [
    "userlog['program'] = userlog.program_id.map(\n",
    "    {\n",
    "        1.0: 'Full-Stack PHP',\n",
    "        2.0: 'Full-Stack Java',\n",
    "        3.0: 'Data Science',\n",
    "        4.0: 'Front-End'\n",
    "    })"
   ]
  },
  {
   "cell_type": "code",
   "execution_count": 48,
   "id": "ac6980d6",
   "metadata": {},
   "outputs": [
    {
     "data": {
      "text/html": [
       "<div>\n",
       "<style scoped>\n",
       "    .dataframe tbody tr th:only-of-type {\n",
       "        vertical-align: middle;\n",
       "    }\n",
       "\n",
       "    .dataframe tbody tr th {\n",
       "        vertical-align: top;\n",
       "    }\n",
       "\n",
       "    .dataframe thead th {\n",
       "        text-align: right;\n",
       "    }\n",
       "</style>\n",
       "<table border=\"1\" class=\"dataframe\">\n",
       "  <thead>\n",
       "    <tr style=\"text-align: right;\">\n",
       "      <th></th>\n",
       "      <th>cohort_id</th>\n",
       "      <th>cohort_name</th>\n",
       "      <th>slack</th>\n",
       "      <th>start_date</th>\n",
       "      <th>end_date</th>\n",
       "      <th>created_at</th>\n",
       "      <th>updated_at</th>\n",
       "      <th>program_id</th>\n",
       "      <th>path</th>\n",
       "      <th>user_id</th>\n",
       "      <th>ip</th>\n",
       "      <th>path_split</th>\n",
       "      <th>module</th>\n",
       "      <th>lesson</th>\n",
       "      <th>program</th>\n",
       "    </tr>\n",
       "    <tr>\n",
       "      <th>datetime</th>\n",
       "      <th></th>\n",
       "      <th></th>\n",
       "      <th></th>\n",
       "      <th></th>\n",
       "      <th></th>\n",
       "      <th></th>\n",
       "      <th></th>\n",
       "      <th></th>\n",
       "      <th></th>\n",
       "      <th></th>\n",
       "      <th></th>\n",
       "      <th></th>\n",
       "      <th></th>\n",
       "      <th></th>\n",
       "      <th></th>\n",
       "    </tr>\n",
       "  </thead>\n",
       "  <tbody>\n",
       "    <tr>\n",
       "      <th>2018-01-26 09:56:24</th>\n",
       "      <td>22</td>\n",
       "      <td>Teddy</td>\n",
       "      <td>#teddy</td>\n",
       "      <td>2018-01-08</td>\n",
       "      <td>2018-05-17</td>\n",
       "      <td>2018-01-08 13:59:10</td>\n",
       "      <td>2018-01-08 13:59:10</td>\n",
       "      <td>2</td>\n",
       "      <td>javascript-i/conditionals</td>\n",
       "      <td>2</td>\n",
       "      <td>97.105.19.61</td>\n",
       "      <td>[javascript-i, conditionals]</td>\n",
       "      <td>javascript-i</td>\n",
       "      <td>conditionals</td>\n",
       "      <td>Full-Stack Java</td>\n",
       "    </tr>\n",
       "    <tr>\n",
       "      <th>2018-01-26 09:56:41</th>\n",
       "      <td>22</td>\n",
       "      <td>Teddy</td>\n",
       "      <td>#teddy</td>\n",
       "      <td>2018-01-08</td>\n",
       "      <td>2018-05-17</td>\n",
       "      <td>2018-01-08 13:59:10</td>\n",
       "      <td>2018-01-08 13:59:10</td>\n",
       "      <td>2</td>\n",
       "      <td>javascript-i/loops</td>\n",
       "      <td>2</td>\n",
       "      <td>97.105.19.61</td>\n",
       "      <td>[javascript-i, loops]</td>\n",
       "      <td>javascript-i</td>\n",
       "      <td>loops</td>\n",
       "      <td>Full-Stack Java</td>\n",
       "    </tr>\n",
       "    <tr>\n",
       "      <th>2018-01-26 09:56:46</th>\n",
       "      <td>22</td>\n",
       "      <td>Teddy</td>\n",
       "      <td>#teddy</td>\n",
       "      <td>2018-01-08</td>\n",
       "      <td>2018-05-17</td>\n",
       "      <td>2018-01-08 13:59:10</td>\n",
       "      <td>2018-01-08 13:59:10</td>\n",
       "      <td>2</td>\n",
       "      <td>javascript-i/conditionals</td>\n",
       "      <td>3</td>\n",
       "      <td>97.105.19.61</td>\n",
       "      <td>[javascript-i, conditionals]</td>\n",
       "      <td>javascript-i</td>\n",
       "      <td>conditionals</td>\n",
       "      <td>Full-Stack Java</td>\n",
       "    </tr>\n",
       "    <tr>\n",
       "      <th>2018-01-26 09:56:48</th>\n",
       "      <td>22</td>\n",
       "      <td>Teddy</td>\n",
       "      <td>#teddy</td>\n",
       "      <td>2018-01-08</td>\n",
       "      <td>2018-05-17</td>\n",
       "      <td>2018-01-08 13:59:10</td>\n",
       "      <td>2018-01-08 13:59:10</td>\n",
       "      <td>2</td>\n",
       "      <td>javascript-i/functions</td>\n",
       "      <td>3</td>\n",
       "      <td>97.105.19.61</td>\n",
       "      <td>[javascript-i, functions]</td>\n",
       "      <td>javascript-i</td>\n",
       "      <td>functions</td>\n",
       "      <td>Full-Stack Java</td>\n",
       "    </tr>\n",
       "    <tr>\n",
       "      <th>2018-01-26 09:56:59</th>\n",
       "      <td>22</td>\n",
       "      <td>Teddy</td>\n",
       "      <td>#teddy</td>\n",
       "      <td>2018-01-08</td>\n",
       "      <td>2018-05-17</td>\n",
       "      <td>2018-01-08 13:59:10</td>\n",
       "      <td>2018-01-08 13:59:10</td>\n",
       "      <td>2</td>\n",
       "      <td>javascript-i/loops</td>\n",
       "      <td>2</td>\n",
       "      <td>97.105.19.61</td>\n",
       "      <td>[javascript-i, loops]</td>\n",
       "      <td>javascript-i</td>\n",
       "      <td>loops</td>\n",
       "      <td>Full-Stack Java</td>\n",
       "    </tr>\n",
       "    <tr>\n",
       "      <th>...</th>\n",
       "      <td>...</td>\n",
       "      <td>...</td>\n",
       "      <td>...</td>\n",
       "      <td>...</td>\n",
       "      <td>...</td>\n",
       "      <td>...</td>\n",
       "      <td>...</td>\n",
       "      <td>...</td>\n",
       "      <td>...</td>\n",
       "      <td>...</td>\n",
       "      <td>...</td>\n",
       "      <td>...</td>\n",
       "      <td>...</td>\n",
       "      <td>...</td>\n",
       "      <td>...</td>\n",
       "    </tr>\n",
       "    <tr>\n",
       "      <th>2021-04-21 16:41:51</th>\n",
       "      <td>28</td>\n",
       "      <td>Staff</td>\n",
       "      <td>#</td>\n",
       "      <td>2014-02-04</td>\n",
       "      <td>2014-02-04</td>\n",
       "      <td>2018-12-06 17:04:19</td>\n",
       "      <td>2018-12-06 17:04:19</td>\n",
       "      <td>2</td>\n",
       "      <td>jquery/personal-site</td>\n",
       "      <td>64</td>\n",
       "      <td>71.150.217.33</td>\n",
       "      <td>[jquery, personal-site]</td>\n",
       "      <td>jquery</td>\n",
       "      <td>personal-site</td>\n",
       "      <td>Full-Stack Java</td>\n",
       "    </tr>\n",
       "    <tr>\n",
       "      <th>2021-04-21 16:42:02</th>\n",
       "      <td>28</td>\n",
       "      <td>Staff</td>\n",
       "      <td>#</td>\n",
       "      <td>2014-02-04</td>\n",
       "      <td>2014-02-04</td>\n",
       "      <td>2018-12-06 17:04:19</td>\n",
       "      <td>2018-12-06 17:04:19</td>\n",
       "      <td>2</td>\n",
       "      <td>jquery/mapbox-api</td>\n",
       "      <td>64</td>\n",
       "      <td>71.150.217.33</td>\n",
       "      <td>[jquery, mapbox-api]</td>\n",
       "      <td>jquery</td>\n",
       "      <td>mapbox-api</td>\n",
       "      <td>Full-Stack Java</td>\n",
       "    </tr>\n",
       "    <tr>\n",
       "      <th>2021-04-21 16:42:09</th>\n",
       "      <td>28</td>\n",
       "      <td>Staff</td>\n",
       "      <td>#</td>\n",
       "      <td>2014-02-04</td>\n",
       "      <td>2014-02-04</td>\n",
       "      <td>2018-12-06 17:04:19</td>\n",
       "      <td>2018-12-06 17:04:19</td>\n",
       "      <td>2</td>\n",
       "      <td>jquery/ajax/weather-map</td>\n",
       "      <td>64</td>\n",
       "      <td>71.150.217.33</td>\n",
       "      <td>[jquery, ajax, weather-map]</td>\n",
       "      <td>jquery</td>\n",
       "      <td>ajax</td>\n",
       "      <td>Full-Stack Java</td>\n",
       "    </tr>\n",
       "    <tr>\n",
       "      <th>2021-04-21 16:44:37</th>\n",
       "      <td>28</td>\n",
       "      <td>Staff</td>\n",
       "      <td>#</td>\n",
       "      <td>2014-02-04</td>\n",
       "      <td>2014-02-04</td>\n",
       "      <td>2018-12-06 17:04:19</td>\n",
       "      <td>2018-12-06 17:04:19</td>\n",
       "      <td>2</td>\n",
       "      <td>anomaly-detection/discrete-probabilistic-methods</td>\n",
       "      <td>744</td>\n",
       "      <td>24.160.137.86</td>\n",
       "      <td>[anomaly-detection, discrete-probabilistic-met...</td>\n",
       "      <td>anomaly-detection</td>\n",
       "      <td>discrete-probabilistic-methods</td>\n",
       "      <td>Full-Stack Java</td>\n",
       "    </tr>\n",
       "    <tr>\n",
       "      <th>2021-04-21 16:44:39</th>\n",
       "      <td>28</td>\n",
       "      <td>Staff</td>\n",
       "      <td>#</td>\n",
       "      <td>2014-02-04</td>\n",
       "      <td>2014-02-04</td>\n",
       "      <td>2018-12-06 17:04:19</td>\n",
       "      <td>2018-12-06 17:04:19</td>\n",
       "      <td>2</td>\n",
       "      <td>jquery/mapbox-api</td>\n",
       "      <td>64</td>\n",
       "      <td>71.150.217.33</td>\n",
       "      <td>[jquery, mapbox-api]</td>\n",
       "      <td>jquery</td>\n",
       "      <td>mapbox-api</td>\n",
       "      <td>Full-Stack Java</td>\n",
       "    </tr>\n",
       "  </tbody>\n",
       "</table>\n",
       "<p>713365 rows × 15 columns</p>\n",
       "</div>"
      ],
      "text/plain": [
       "                     cohort_id cohort_name   slack start_date   end_date  \\\n",
       "datetime                                                                   \n",
       "2018-01-26 09:56:24         22       Teddy  #teddy 2018-01-08 2018-05-17   \n",
       "2018-01-26 09:56:41         22       Teddy  #teddy 2018-01-08 2018-05-17   \n",
       "2018-01-26 09:56:46         22       Teddy  #teddy 2018-01-08 2018-05-17   \n",
       "2018-01-26 09:56:48         22       Teddy  #teddy 2018-01-08 2018-05-17   \n",
       "2018-01-26 09:56:59         22       Teddy  #teddy 2018-01-08 2018-05-17   \n",
       "...                        ...         ...     ...        ...        ...   \n",
       "2021-04-21 16:41:51         28       Staff       # 2014-02-04 2014-02-04   \n",
       "2021-04-21 16:42:02         28       Staff       # 2014-02-04 2014-02-04   \n",
       "2021-04-21 16:42:09         28       Staff       # 2014-02-04 2014-02-04   \n",
       "2021-04-21 16:44:37         28       Staff       # 2014-02-04 2014-02-04   \n",
       "2021-04-21 16:44:39         28       Staff       # 2014-02-04 2014-02-04   \n",
       "\n",
       "                             created_at          updated_at  program_id  \\\n",
       "datetime                                                                  \n",
       "2018-01-26 09:56:24 2018-01-08 13:59:10 2018-01-08 13:59:10           2   \n",
       "2018-01-26 09:56:41 2018-01-08 13:59:10 2018-01-08 13:59:10           2   \n",
       "2018-01-26 09:56:46 2018-01-08 13:59:10 2018-01-08 13:59:10           2   \n",
       "2018-01-26 09:56:48 2018-01-08 13:59:10 2018-01-08 13:59:10           2   \n",
       "2018-01-26 09:56:59 2018-01-08 13:59:10 2018-01-08 13:59:10           2   \n",
       "...                                 ...                 ...         ...   \n",
       "2021-04-21 16:41:51 2018-12-06 17:04:19 2018-12-06 17:04:19           2   \n",
       "2021-04-21 16:42:02 2018-12-06 17:04:19 2018-12-06 17:04:19           2   \n",
       "2021-04-21 16:42:09 2018-12-06 17:04:19 2018-12-06 17:04:19           2   \n",
       "2021-04-21 16:44:37 2018-12-06 17:04:19 2018-12-06 17:04:19           2   \n",
       "2021-04-21 16:44:39 2018-12-06 17:04:19 2018-12-06 17:04:19           2   \n",
       "\n",
       "                                                                 path  \\\n",
       "datetime                                                                \n",
       "2018-01-26 09:56:24                         javascript-i/conditionals   \n",
       "2018-01-26 09:56:41                                javascript-i/loops   \n",
       "2018-01-26 09:56:46                         javascript-i/conditionals   \n",
       "2018-01-26 09:56:48                            javascript-i/functions   \n",
       "2018-01-26 09:56:59                                javascript-i/loops   \n",
       "...                                                               ...   \n",
       "2021-04-21 16:41:51                              jquery/personal-site   \n",
       "2021-04-21 16:42:02                                 jquery/mapbox-api   \n",
       "2021-04-21 16:42:09                           jquery/ajax/weather-map   \n",
       "2021-04-21 16:44:37  anomaly-detection/discrete-probabilistic-methods   \n",
       "2021-04-21 16:44:39                                 jquery/mapbox-api   \n",
       "\n",
       "                     user_id             ip  \\\n",
       "datetime                                      \n",
       "2018-01-26 09:56:24        2   97.105.19.61   \n",
       "2018-01-26 09:56:41        2   97.105.19.61   \n",
       "2018-01-26 09:56:46        3   97.105.19.61   \n",
       "2018-01-26 09:56:48        3   97.105.19.61   \n",
       "2018-01-26 09:56:59        2   97.105.19.61   \n",
       "...                      ...            ...   \n",
       "2021-04-21 16:41:51       64  71.150.217.33   \n",
       "2021-04-21 16:42:02       64  71.150.217.33   \n",
       "2021-04-21 16:42:09       64  71.150.217.33   \n",
       "2021-04-21 16:44:37      744  24.160.137.86   \n",
       "2021-04-21 16:44:39       64  71.150.217.33   \n",
       "\n",
       "                                                            path_split  \\\n",
       "datetime                                                                 \n",
       "2018-01-26 09:56:24                       [javascript-i, conditionals]   \n",
       "2018-01-26 09:56:41                              [javascript-i, loops]   \n",
       "2018-01-26 09:56:46                       [javascript-i, conditionals]   \n",
       "2018-01-26 09:56:48                          [javascript-i, functions]   \n",
       "2018-01-26 09:56:59                              [javascript-i, loops]   \n",
       "...                                                                ...   \n",
       "2021-04-21 16:41:51                            [jquery, personal-site]   \n",
       "2021-04-21 16:42:02                               [jquery, mapbox-api]   \n",
       "2021-04-21 16:42:09                        [jquery, ajax, weather-map]   \n",
       "2021-04-21 16:44:37  [anomaly-detection, discrete-probabilistic-met...   \n",
       "2021-04-21 16:44:39                               [jquery, mapbox-api]   \n",
       "\n",
       "                                module                          lesson  \\\n",
       "datetime                                                                 \n",
       "2018-01-26 09:56:24       javascript-i                    conditionals   \n",
       "2018-01-26 09:56:41       javascript-i                           loops   \n",
       "2018-01-26 09:56:46       javascript-i                    conditionals   \n",
       "2018-01-26 09:56:48       javascript-i                       functions   \n",
       "2018-01-26 09:56:59       javascript-i                           loops   \n",
       "...                                ...                             ...   \n",
       "2021-04-21 16:41:51             jquery                   personal-site   \n",
       "2021-04-21 16:42:02             jquery                      mapbox-api   \n",
       "2021-04-21 16:42:09             jquery                            ajax   \n",
       "2021-04-21 16:44:37  anomaly-detection  discrete-probabilistic-methods   \n",
       "2021-04-21 16:44:39             jquery                      mapbox-api   \n",
       "\n",
       "                             program  \n",
       "datetime                              \n",
       "2018-01-26 09:56:24  Full-Stack Java  \n",
       "2018-01-26 09:56:41  Full-Stack Java  \n",
       "2018-01-26 09:56:46  Full-Stack Java  \n",
       "2018-01-26 09:56:48  Full-Stack Java  \n",
       "2018-01-26 09:56:59  Full-Stack Java  \n",
       "...                              ...  \n",
       "2021-04-21 16:41:51  Full-Stack Java  \n",
       "2021-04-21 16:42:02  Full-Stack Java  \n",
       "2021-04-21 16:42:09  Full-Stack Java  \n",
       "2021-04-21 16:44:37  Full-Stack Java  \n",
       "2021-04-21 16:44:39  Full-Stack Java  \n",
       "\n",
       "[713365 rows x 15 columns]"
      ]
     },
     "execution_count": 48,
     "metadata": {},
     "output_type": "execute_result"
    }
   ],
   "source": [
    "userlog[userlog.program_id == 2]"
   ]
  },
  {
   "cell_type": "markdown",
   "id": "ce8415d3",
   "metadata": {},
   "source": [
    "### At some point in 2019, the ability for students and alumni to access both curriculums (web dev to ds, ds to web dev) should have been shut off. Do you see any evidence of that happening? Did it happen before?\n"
   ]
  },
  {
   "cell_type": "code",
   "execution_count": 45,
   "id": "ed5be059",
   "metadata": {},
   "outputs": [
    {
     "data": {
      "text/plain": [
       "Full-Stack Java    713365\n",
       "Data Science       103411\n",
       "Full-Stack PHP      30548\n",
       "Front-End               5\n",
       "Name: program, dtype: int64"
      ]
     },
     "execution_count": 45,
     "metadata": {},
     "output_type": "execute_result"
    }
   ],
   "source": [
    "userlog.program.value_counts()"
   ]
  },
  {
   "cell_type": "code",
   "execution_count": 49,
   "id": "363e18bc",
   "metadata": {},
   "outputs": [],
   "source": [
    "userlog['ds_student'] = userlog.program_id == 3"
   ]
  },
  {
   "cell_type": "markdown",
   "id": "4e083288",
   "metadata": {},
   "source": [
    "### Check to see which webpages the Data Science students are visiting"
   ]
  },
  {
   "cell_type": "code",
   "execution_count": 87,
   "id": "2b3a0478",
   "metadata": {},
   "outputs": [
    {
     "data": {
      "text/plain": [
       "fundamentals                        8746\n",
       "classification                      8620\n",
       "                                    8358\n",
       "1-fundamentals                      7945\n",
       "sql                                 7505\n",
       "3-sql                               6165\n",
       "python                              5599\n",
       "4-python                            4856\n",
       "6-regression                        4562\n",
       "appendix                            3944\n",
       "5-stats                             3361\n",
       "stats                               3299\n",
       "7-classification                    3220\n",
       "regression                          2945\n",
       "search                              2206\n",
       "clustering                          2191\n",
       "10-anomaly-detection                2185\n",
       "anomaly-detection                   2147\n",
       "8-clustering                        2081\n",
       "11-nlp                              1865\n",
       "9-timeseries                        1723\n",
       "storytelling                        1685\n",
       "2-storytelling                      1627\n",
       "timeseries                          1592\n",
       "nlp                                 1343\n",
       "13-advanced-topics                  1011\n",
       "12-distributed-ml                    996\n",
       "distributed-ml                       659\n",
       "advanced-topics                      267\n",
       "individual-project                    81\n",
       "capstones                             63\n",
       "AI-ML-DL-timeline.jpg                 58\n",
       "modern-data-scientist.jpg             58\n",
       "html-css                              26\n",
       "florence-python-assessment.html       16\n",
       "acquire                               16\n",
       "working-with-time-series-data         14\n",
       "cli                                   14\n",
       "javascript-i                          12\n",
       "series                                12\n",
       "3-vocabulary.md                       12\n",
       "toc                                   11\n",
       "dataframes                            11\n",
       "login                                 10\n",
       "git                                   10\n",
       "explore                               10\n",
       "mysql                                  9\n",
       "environment-setup                      9\n",
       "3-discrete-probabilistic-methods       9\n",
       "pandas-overview                        9\n",
       "Name: module, dtype: int64"
      ]
     },
     "execution_count": 87,
     "metadata": {},
     "output_type": "execute_result"
    }
   ],
   "source": [
    "userlog[userlog.ds_student == True].module.value_counts()[:50]"
   ]
  },
  {
   "cell_type": "code",
   "execution_count": 88,
   "id": "e7e4bc87",
   "metadata": {},
   "outputs": [
    {
     "data": {
      "text/plain": [
       "overview                                          8\n",
       "spring                                            8\n",
       "java-i                                            8\n",
       "curie-python-assessment                           7\n",
       "regular-expressions                               6\n",
       "darden-python-assessment.html                     6\n",
       "Hospital-Distance-Clusters.jpg                    5\n",
       "java-ii                                           5\n",
       "mysql-introduction                                5\n",
       "1.2-data-science-pipeline                         5\n",
       "prepare                                           5\n",
       "model                                             5\n",
       "Pipeline_Demo                                     4\n",
       "bayes-python-assessment-4586.html                 4\n",
       "functions                                         4\n",
       "1.3-pipeline-demo                                 4\n",
       "jquery                                            4\n",
       "scale_features_or_not.svg                         4\n",
       "find_me_curie!(12.3.19)                           4\n",
       "javascript-ii                                     4\n",
       "refine                                            4\n",
       "AnomalyDetectionCartoon.jpeg                      4\n",
       "java-iii                                          4\n",
       "vocabulary                                        3\n",
       "prep                                              3\n",
       "user-defined-functions.md                         3\n",
       "13.1_Understand                                   3\n",
       "present                                           3\n",
       "simulation                                        3\n",
       "curie-python-assessemt                            3\n",
       "basic-statements                                  3\n",
       "project                                           3\n",
       "api                                               2\n",
       "curie-stats-assessment                            2\n",
       "Selecting_a_hypothesis_test.svg                   2\n",
       "3-data-types-and-variables                        2\n",
       "compare-means                                     2\n",
       "3-probability-distributions                       2\n",
       "grades                                            2\n",
       "evaluation                                        2\n",
       "short_evaluation                                  2\n",
       "DataToAction_v2.jpg                               2\n",
       "alumni                                            2\n",
       "subqueries                                        2\n",
       "4-detecting-timeseries-anomalies                  2\n",
       "intro-to-matplotlib                               2\n",
       "ltc.-ml                                           2\n",
       "3-databases                                       2\n",
       "classical_programming_vs_machine_learning.jpeg    2\n",
       "create                                            2\n",
       "Name: module, dtype: int64"
      ]
     },
     "execution_count": 88,
     "metadata": {},
     "output_type": "execute_result"
    }
   ],
   "source": [
    "userlog[userlog.ds_student == True].module.value_counts()[50:100]"
   ]
  },
  {
   "cell_type": "markdown",
   "id": "f4568903",
   "metadata": {},
   "source": [
    "# Takeaways\n",
    "* The Data Science students during the time this data was captured did not visit many Web Development pages."
   ]
  },
  {
   "cell_type": "code",
   "execution_count": 71,
   "id": "63a27b37",
   "metadata": {},
   "outputs": [
    {
     "data": {
      "text/plain": [
       "5200"
      ]
     },
     "execution_count": 71,
     "metadata": {},
     "output_type": "execute_result"
    }
   ],
   "source": [
    "# Check the number of users in this dataset.\n",
    "userlog.ip.unique().shape[0]"
   ]
  },
  {
   "cell_type": "markdown",
   "id": "91899765",
   "metadata": {},
   "source": [
    "### Check to see which webpages the Web Development students are visiting."
   ]
  },
  {
   "cell_type": "code",
   "execution_count": 84,
   "id": "ce4dca35",
   "metadata": {
    "scrolled": false
   },
   "outputs": [
    {
     "data": {
      "text/plain": [
       "javascript-i                  113826\n",
       "html-css                       81464\n",
       "mysql                          79407\n",
       "jquery                         58313\n",
       "spring                         55473\n",
       "java-iii                       54560\n",
       "java-ii                        52920\n",
       "java-i                         39636\n",
       "                               37496\n",
       "javascript-ii                  37473\n",
       "appendix                       31655\n",
       "toc                            17580\n",
       "search                         15333\n",
       "examples                       14167\n",
       "content                         9102\n",
       "slides                          7319\n",
       "capstone                        2849\n",
       "classification                  2833\n",
       "fundamentals                    2381\n",
       "web-design                      2103\n",
       "1-fundamentals                  2025\n",
       "mkdocs                          1865\n",
       "index.html                      1722\n",
       "sql                             1530\n",
       "10-anomaly-detection            1331\n",
       "6-regression                    1283\n",
       "3-sql                           1243\n",
       "python                          1119\n",
       "4-python                         932\n",
       "prework                          899\n",
       "regression                       883\n",
       "anomaly-detection                680\n",
       "clustering                       659\n",
       "stats                            637\n",
       "5-stats                          623\n",
       "storytelling                     510\n",
       "2-storytelling                   489\n",
       "timeseries                       488\n",
       "7-classification                 486\n",
       "9-timeseries                     454\n",
       "8-clustering                     434\n",
       "11-nlp                           385\n",
       "Intro_to_Regression_Module       268\n",
       "nlp                              259\n",
       "1._Fundamentals                  243\n",
       "12-distributed-ml                235\n",
       "5-regression                     228\n",
       "3.0-mysql-overview               219\n",
       "6-classification                 188\n",
       "9-anomaly-detection              165\n",
       "Name: module, dtype: int64"
      ]
     },
     "execution_count": 84,
     "metadata": {},
     "output_type": "execute_result"
    }
   ],
   "source": [
    "userlog[userlog.ds_student == False].module.value_counts()[:50]"
   ]
  },
  {
   "cell_type": "code",
   "execution_count": 85,
   "id": "37bdd1f3",
   "metadata": {},
   "outputs": [
    {
     "data": {
      "text/plain": [
       "assets                              158\n",
       "13-advanced-topics                  124\n",
       "distributed-ml                      117\n",
       "git                                 109\n",
       "2-stats                             108\n",
       "Regression_Python                    88\n",
       "introduction                         69\n",
       "4.6.3_introduction_to_pandas         69\n",
       "Pipeline_Demo                        67\n",
       "elements                             57\n",
       "2.01.00_Descriptive_Stats            56\n",
       "7-clustering                         53\n",
       "Intro_to_Regression                  51\n",
       "ordinary_least_squares.jpeg          50\n",
       "4.2_data_types_and_variables         50\n",
       "4.3_control_structures               46\n",
       "Regression_Project                   43\n",
       "login                                43\n",
       "4.4_functions                        43\n",
       "4.0_overview                         42\n",
       "css-ii                               42\n",
       "2.00.02_Navigating_Excel             41\n",
       "css-i                                41\n",
       "2.00.00_Excel_Prob_Stats             40\n",
       "6_Exercises                          40\n",
       "4.1_introduction                     40\n",
       "8.4_Prep                             39\n",
       "8.5_Explore                          39\n",
       "8.6.1_ParametricModeling             39\n",
       "2.02.01_Probability                  39\n",
       "5._Regression                        37\n",
       "4.5_imports                          37\n",
       "advanced-topics                      37\n",
       "Hospital-Distance-Clusters.jpg       36\n",
       "4.6.1_introduction_to_matplotlib     36\n",
       "2.00.04_PrepareData_Excel            35\n",
       "7_Exercises                          35\n",
       "2.02.06_Correlation                  35\n",
       "extra-challenges                     34\n",
       "Univariate_Regression_Excel          34\n",
       "2.02.03_Power_Analysis               34\n",
       "4.6.4_introduction_to_seaborn        34\n",
       "3.1-mysql-introduction               33\n",
       "3.4-basic-statements                 32\n",
       "7.2_About                            32\n",
       "3.9-temporary-tables                 32\n",
       "2.02.04_Distribution_and_Test        32\n",
       "8.3_Acquire                          32\n",
       "2.00.01_Intro_Excel                  30\n",
       "Multivariate_Regression_Excel        29\n",
       "Name: module, dtype: int64"
      ]
     },
     "execution_count": 85,
     "metadata": {},
     "output_type": "execute_result"
    }
   ],
   "source": [
    "userlog[userlog.ds_student == False].module.value_counts()[50:100]"
   ]
  },
  {
   "cell_type": "code",
   "execution_count": 86,
   "id": "e0c6e230",
   "metadata": {},
   "outputs": [
    {
     "data": {
      "text/plain": [
       "study-session-with-ryan                  28\n",
       "2.02.05_Compare_Means                    28\n",
       "forms                                    28\n",
       "10.01_Acquire_WebScraping                28\n",
       "10.4_Prepare                             27\n",
       "2.02.00_Inferential_Stats                27\n",
       "Exercises                                27\n",
       "8_Exercises                              26\n",
       "professional-development                 26\n",
       "12.1_Tidy_Data                           26\n",
       "javascript                               25\n",
       "3.10-more-exercises                      25\n",
       "users                                    25\n",
       "2.00.05_Charts_PivotTables_Sparklines    25\n",
       "8.1_Overview                             24\n",
       "3.2-databases                            24\n",
       "2.02.02_Sampling                         24\n",
       "6_Project                                24\n",
       "7.5.1_KMeans1                            23\n",
       "10_Exercises                             23\n",
       "12.01_SocialNetworkAnalysis              23\n",
       "10._NLP                                  23\n",
       "13.1_Understand                          22\n",
       "6.2_About                                22\n",
       "mvc                                      22\n",
       "databases                                22\n",
       "uploads                                  22\n",
       "9._Anomaly_Detection                     22\n",
       "8.2_About                                22\n",
       "capstones                                22\n",
       "3.8.2-joins                              21\n",
       "7.3_Wrangle                              21\n",
       "3.3-tables                               21\n",
       "3.6-functions                            20\n",
       "6.5_Explore                              20\n",
       "13.02_Tableau                            20\n",
       "conditionals                             19\n",
       "10-nlp                                   19\n",
       "javascript-with-html                     19\n",
       "10.02.01_ParseText                       19\n",
       "7.1_Overview                             18\n",
       "6.4_Prep                                 18\n",
       "4.6.2_introduction_to_numpy              18\n",
       "11-distributed-ml                        18\n",
       "10.6_Model                               17\n",
       "6.1_Overview                             16\n",
       "13.2_Create                              16\n",
       "jsp-and-jstl                             16\n",
       "10_Regex                                 15\n",
       "3.7-group-by                             15\n",
       "Name: module, dtype: int64"
      ]
     },
     "execution_count": 86,
     "metadata": {},
     "output_type": "execute_result"
    }
   ],
   "source": [
    "userlog[userlog.ds_student == False].module.value_counts()[100:150]"
   ]
  },
  {
   "cell_type": "markdown",
   "id": "722622d7",
   "metadata": {},
   "source": [
    "# Takeaways\n",
    "* The Web Development students visited Data Science webpages a lot more than Data Science students visited Web Development pages."
   ]
  },
  {
   "cell_type": "markdown",
   "id": "d85a42e6",
   "metadata": {},
   "source": [
    "### Resample the data by day and plot number of page visits/day for Web Development students."
   ]
  },
  {
   "cell_type": "code",
   "execution_count": 102,
   "id": "1eebbd55",
   "metadata": {},
   "outputs": [],
   "source": [
    "web_dev_page_visits = userlog[userlog.ds_student == False].resample('d').path.count()"
   ]
  },
  {
   "cell_type": "code",
   "execution_count": 103,
   "id": "7302563e",
   "metadata": {},
   "outputs": [
    {
     "data": {
      "text/plain": [
       "<AxesSubplot:xlabel='datetime'>"
      ]
     },
     "execution_count": 103,
     "metadata": {},
     "output_type": "execute_result"
    },
    {
     "data": {
      "image/png": "[encoded data removed]",
      "text/plain": [
       "<Figure size 432x288 with 1 Axes>"
      ]
     },
     "metadata": {
      "needs_background": "light"
     },
     "output_type": "display_data"
    }
   ],
   "source": [
    "web_dev_page_visits.plot()"
   ]
  },
  {
   "cell_type": "markdown",
   "id": "d62cde77",
   "metadata": {},
   "source": [
    "## Use Bolinger Bands to set upper and lower limits for normal activity. This method will be used to identify abnormal page visits."
   ]
  },
  {
   "cell_type": "markdown",
   "id": "bd07aeeb",
   "metadata": {},
   "source": [
    "### Set Midband\n",
    "\n",
    "#### The Exponential Moving Average"
   ]
  },
  {
   "cell_type": "code",
   "execution_count": 104,
   "id": "9eca7632",
   "metadata": {},
   "outputs": [],
   "source": [
    "# Compute the midband.\n",
    "midband = web_dev_page_visits.ewm(span=30).mean()"
   ]
  },
  {
   "cell_type": "code",
   "execution_count": 105,
   "id": "bbe625db",
   "metadata": {},
   "outputs": [
    {
     "data": {
      "text/plain": [
       "<AxesSubplot:xlabel='datetime'>"
      ]
     },
     "execution_count": 105,
     "metadata": {},
     "output_type": "execute_result"
    },
    {
     "data": {
      "image/png": "[encoded data removed]",
      "text/plain": [
       "<Figure size 432x288 with 1 Axes>"
      ]
     },
     "metadata": {
      "needs_background": "light"
     },
     "output_type": "display_data"
    }
   ],
   "source": [
    "midband.plot()"
   ]
  },
  {
   "cell_type": "markdown",
   "id": "4d128c79",
   "metadata": {},
   "source": [
    "## Set Upper & Lower Band\n",
    "\n",
    "UB/LB = Midband +/- stdev * K"
   ]
  },
  {
   "cell_type": "code",
   "execution_count": 106,
   "id": "1b446fef",
   "metadata": {},
   "outputs": [],
   "source": [
    "# Compute the exponential standard deviation.\n",
    "stdev = web_dev_page_visits.ewm(span=30).std()"
   ]
  },
  {
   "cell_type": "code",
   "execution_count": 108,
   "id": "63df7fcb",
   "metadata": {},
   "outputs": [
    {
     "data": {
      "text/plain": [
       "(datetime\n",
       " 2018-01-26            NaN\n",
       " 2018-01-27     804.956709\n",
       " 2018-01-28     687.762221\n",
       " 2018-01-29    1019.718202\n",
       " 2018-01-30    1001.085795\n",
       "                  ...     \n",
       " 2021-04-17    2201.651173\n",
       " 2021-04-18    2160.325686\n",
       " 2021-04-19    2232.663074\n",
       " 2021-04-20    2263.411015\n",
       " 2021-04-21    2215.736176\n",
       " Freq: D, Name: path, Length: 1182, dtype: float64,\n",
       " datetime\n",
       " 2018-01-26           NaN\n",
       " 2018-01-27    -52.056709\n",
       " 2018-01-28    -83.192803\n",
       " 2018-01-29   -150.239623\n",
       " 2018-01-30    -50.034912\n",
       "                  ...    \n",
       " 2021-04-17   -169.996110\n",
       " 2021-04-18   -201.035466\n",
       " 2021-04-19   -175.004481\n",
       " 2021-04-20   -132.827169\n",
       " 2021-04-21   -109.706127\n",
       " Freq: D, Name: path, Length: 1182, dtype: float64)"
      ]
     },
     "execution_count": 108,
     "metadata": {},
     "output_type": "execute_result"
    }
   ],
   "source": [
    "# Compute the upper and lower bands.\n",
    "ub = midband + stdev*2\n",
    "lb = midband - stdev*2\n",
    "ub, lb"
   ]
  },
  {
   "cell_type": "code",
   "execution_count": 110,
   "id": "ee8e64b9",
   "metadata": {},
   "outputs": [
    {
     "data": {
      "text/html": [
       "<div>\n",
       "<style scoped>\n",
       "    .dataframe tbody tr th:only-of-type {\n",
       "        vertical-align: middle;\n",
       "    }\n",
       "\n",
       "    .dataframe tbody tr th {\n",
       "        vertical-align: top;\n",
       "    }\n",
       "\n",
       "    .dataframe thead th {\n",
       "        text-align: right;\n",
       "    }\n",
       "</style>\n",
       "<table border=\"1\" class=\"dataframe\">\n",
       "  <thead>\n",
       "    <tr style=\"text-align: right;\">\n",
       "      <th></th>\n",
       "      <th>web_dev_page_visits</th>\n",
       "      <th>midband</th>\n",
       "      <th>ub</th>\n",
       "      <th>lb</th>\n",
       "    </tr>\n",
       "    <tr>\n",
       "      <th>datetime</th>\n",
       "      <th></th>\n",
       "      <th></th>\n",
       "      <th></th>\n",
       "      <th></th>\n",
       "    </tr>\n",
       "  </thead>\n",
       "  <tbody>\n",
       "    <tr>\n",
       "      <th>2018-01-26</th>\n",
       "      <td>533</td>\n",
       "      <td>533.000000</td>\n",
       "      <td>NaN</td>\n",
       "      <td>NaN</td>\n",
       "    </tr>\n",
       "    <tr>\n",
       "      <th>2018-01-27</th>\n",
       "      <td>230</td>\n",
       "      <td>376.450000</td>\n",
       "      <td>804.956709</td>\n",
       "      <td>-52.056709</td>\n",
       "    </tr>\n",
       "    <tr>\n",
       "      <th>2018-01-28</th>\n",
       "      <td>168</td>\n",
       "      <td>302.284709</td>\n",
       "      <td>687.762221</td>\n",
       "      <td>-83.192803</td>\n",
       "    </tr>\n",
       "    <tr>\n",
       "      <th>2018-01-29</th>\n",
       "      <td>783</td>\n",
       "      <td>434.739290</td>\n",
       "      <td>1019.718202</td>\n",
       "      <td>-150.239623</td>\n",
       "    </tr>\n",
       "    <tr>\n",
       "      <th>2018-01-30</th>\n",
       "      <td>614</td>\n",
       "      <td>475.525441</td>\n",
       "      <td>1001.085795</td>\n",
       "      <td>-50.034912</td>\n",
       "    </tr>\n",
       "  </tbody>\n",
       "</table>\n",
       "</div>"
      ],
      "text/plain": [
       "            web_dev_page_visits     midband           ub          lb\n",
       "datetime                                                            \n",
       "2018-01-26                  533  533.000000          NaN         NaN\n",
       "2018-01-27                  230  376.450000   804.956709  -52.056709\n",
       "2018-01-28                  168  302.284709   687.762221  -83.192803\n",
       "2018-01-29                  783  434.739290  1019.718202 -150.239623\n",
       "2018-01-30                  614  475.525441  1001.085795  -50.034912"
      ]
     },
     "execution_count": 110,
     "metadata": {},
     "output_type": "execute_result"
    }
   ],
   "source": [
    "# Concatenate upper band and lower band together into one dataframe, bb.\n",
    "bb = pd.concat([ub, lb], axis=1)\n",
    "# Set names of columns.\n",
    "bb.columns = ['ub', 'lb']\n",
    "\n",
    "# Create a dataframe that holds the values for 'pages', 'midband', and the newly created 'bb'.\n",
    "my_df = pd.concat([web_dev_page_visits, midband, bb], axis=1)\n",
    "my_df.columns = ['web_dev_page_visits', 'midband', 'ub', 'lb']\n",
    "my_df.head()"
   ]
  },
  {
   "cell_type": "markdown",
   "id": "edb263e4",
   "metadata": {},
   "source": [
    "## Plot number of page visits along with the Bollinger Bands"
   ]
  },
  {
   "cell_type": "code",
   "execution_count": 111,
   "id": "4c6aa48a",
   "metadata": {},
   "outputs": [
    {
     "data": {
      "image/png": "[encoded data removed]",
      "text/plain": [
       "<Figure size 864x576 with 1 Axes>"
      ]
     },
     "metadata": {
      "needs_background": "light"
     },
     "output_type": "display_data"
    }
   ],
   "source": [
    "fig, ax = plt.subplots(figsize=(12,8))\n",
    "\n",
    "ax.plot(my_df.index, my_df.web_dev_page_visits, label='Number of Pages')\n",
    "\n",
    "ax.plot(my_df.index, my_df.midband, label = '30-day EMA/midband')\n",
    "ax.plot(my_df.index, my_df.ub, label = 'Upper Band')\n",
    "ax.plot(my_df.index, my_df.lb, label = 'Lower Band')\n",
    "\n",
    "ax.legend(loc='best')\n",
    "ax.set_ylabel('Number of pages')\n",
    "\n",
    "plt.show()"
   ]
  },
  {
   "cell_type": "code",
   "execution_count": null,
   "id": "cbabd267",
   "metadata": {},
   "outputs": [],
   "source": []
  }
 ],
 "metadata": {
  "kernelspec": {
   "display_name": "Python 3 (ipykernel)",
   "language": "python",
   "name": "python3"
  },
  "language_info": {
   "codemirror_mode": {
    "name": "ipython",
    "version": 3
   },
   "file_extension": ".py",
   "mimetype": "text/x-python",
   "name": "python",
   "nbconvert_exporter": "python",
   "pygments_lexer": "ipython3",
   "version": "3.8.8"
  }
 },
 "nbformat": 4,
 "nbformat_minor": 5
}
